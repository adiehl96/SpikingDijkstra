{
  "cells": [
    {
      "cell_type": "markdown",
      "metadata": {
        "id": "_QY95sdugvJE"
      },
      "source": [
        "# Finding the Minimum Simulation Steps of Spiking Dijkstra"
      ]
    },
    {
      "cell_type": "code",
      "execution_count": null,
      "metadata": {
        "id": "GH3CGJwhgvJG"
      },
      "outputs": [],
      "source": [
        "try:\n",
        "    # Check if this cell is running in google colab\n",
        "    import google.colab\n",
        "\n",
        "    !pip install gitpython\n",
        "    !pip install simsnn==1.0.2\n",
        "    import os, shutil\n",
        "    from git import Repo\n",
        "\n",
        "\n",
        "    # Delete everything in the content (current) directory on google colab\n",
        "    for root, dirs, files in os.walk(\"/content\"):\n",
        "        for name in files:\n",
        "            os.remove(os.path.join(root, name))\n",
        "        for name in dirs:\n",
        "            shutil.rmtree(os.path.join(root, name))\n",
        "        break\n",
        "\n",
        "    # Clone git repo, change the branch and\n",
        "    Repo.clone_from(\"https://github.com/adiehl96/SpikingDijkstra.git\", \"/content/SpikingDijkstraa\")\n",
        "\n",
        "    # Move the repo up by one level in the folder hierarchy\n",
        "    for root, dirs, files in os.walk(\"/content/SpikingDijkstraa\"):\n",
        "        for name in dirs + files:\n",
        "            shutil.move(os.path.join(root, name), os.path.join(\"/content\", name))\n",
        "        break\n",
        "    os.rmdir(\"/content/SpikingDijkstraa\")\n",
        "\n",
        "except:\n",
        "    print(\"This cell is only supposed to be executed on google colab, not on your local machine!\")"
      ]
    },
    {
      "cell_type": "code",
      "execution_count": null,
      "metadata": {
        "id": "IugVIX1IgvJH"
      },
      "outputs": [],
      "source": [
        "### This hack allows accessing spijking dijkstra from this folder during development.\n",
        "if \"SCRIPT_DIR\" not in vars(): import sys; import os; SCRIPT_DIR=os.getcwd(); sys.path.append(os.path.dirname(SCRIPT_DIR)); sys.path.append(SCRIPT_DIR);\n",
        "###\n",
        "\n",
        "\n",
        "import numpy as np\n",
        "import networkx as nx\n",
        "from pprint import pprint\n",
        "\n",
        "from spikingdijkstra.graphsupport import is_equal, get_test_graphs\n",
        "from spikingdijkstra.algorithms import sssp\n",
        "\n",
        "\n",
        "def get_min_steps(gd, n):\n",
        "    g = nx.fast_gnp_random_graph(gd[\"n\"], gd[\"p\"], seed=gd[\"s\"])\n",
        "    for e0, e1 in gd[\"weights\"]:\n",
        "        g[e0][e1][\"weight\"] = gd[\"weights\"][(e0, e1)]\n",
        "    nxpaths = nx.single_source_dijkstra(g, gd[\"source\"])[1]\n",
        "    for steps in range(n):\n",
        "        snnpaths = sssp(g, gd[\"source\"], steps=steps)\n",
        "        try:\n",
        "            assert is_equal(g, nxpaths, snnpaths)\n",
        "            gd[\"minsteps\"] = steps\n",
        "            break\n",
        "        except AssertionError:\n",
        "            continue\n",
        "    assert \"minsteps\" in gd\n",
        "    return gd\n",
        "\n",
        "def test_get_min_steps(max_simulation_steps=100):\n",
        "    gds = get_test_graphs(range(3, 12), np.linspace(0.5, 1, 2), 5)\n",
        "    for gd in gds:\n",
        "        get_min_steps(gd, max_simulation_steps)\n",
        "    return gds"
      ]
    },
    {
      "cell_type": "code",
      "execution_count": null,
      "metadata": {
        "id": "7nZwTeMrgvJH"
      },
      "outputs": [],
      "source": [
        "### This hack allows accessing spijking dijkstra from this folder during development.\n",
        "if \"SCRIPT_DIR\" not in vars(): import sys; import os; SCRIPT_DIR=os.getcwd(); sys.path.append(os.path.dirname(SCRIPT_DIR), SCRIPT_DIR);\n",
        "###\n",
        "\n",
        "minstepsdict = test_get_min_steps(max_simulation_steps=100)\n",
        "pprint(minstepsdict)"
      ]
    }
  ],
  "metadata": {
    "kernelspec": {
      "display_name": "spikingdijkstra",
      "language": "python",
      "name": "python3"
    },
    "language_info": {
      "codemirror_mode": {
        "name": "ipython",
        "version": 3
      },
      "file_extension": ".py",
      "mimetype": "text/x-python",
      "name": "python",
      "nbconvert_exporter": "python",
      "pygments_lexer": "ipython3",
      "version": "3.11.5"
    },
    "colab": {
      "provenance": []
    }
  },
  "nbformat": 4,
  "nbformat_minor": 0
}
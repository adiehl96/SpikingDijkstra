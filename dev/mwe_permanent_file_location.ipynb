{
 "cells": [
  {
   "cell_type": "markdown",
   "metadata": {},
   "source": [
    "# Permanent File Location for Jupyter Notebooks\n",
    "\n",
    "For normal python scripts, we can use the `__file__` variable to get the location of the script. However, this variable is not available in Jupyter Notebooks. We can therefore keep the following code on the top of every cell, to find the location of the notebook, no matter the order in which the cells are executed.\n",
    "\n",
    "```python\n",
    "if \"SCRIPT_DIR\" not in vars(): import sys; import os; SCRIPT_DIR=os.getcwd(); sys.path.append(os.path.dirname(SCRIPT_DIR));\n",
    "```\n",
    "As examples, the following cells demonstrate that the variable SCRIPT_DIR is always set to the directory of the notebook, even if the current working directory has been changed."
   ]
  },
  {
   "cell_type": "code",
   "execution_count": null,
   "metadata": {},
   "outputs": [],
   "source": [
    "### This hack allows accessing spijking dijkstra from this folder during development.\n",
    "if \"SCRIPT_DIR\" not in vars(): import sys; import os; SCRIPT_DIR=os.getcwd(); sys.path.append(os.path.dirname(SCRIPT_DIR));\n",
    "###\n",
    "\n",
    "print(os.getcwd())\n",
    "print(SCRIPT_DIR)"
   ]
  },
  {
   "cell_type": "code",
   "execution_count": null,
   "metadata": {},
   "outputs": [],
   "source": [
    "### This hack allows accessing spijking dijkstra from this folder during development.\n",
    "if \"SCRIPT_DIR\" not in vars(): import sys; import os; SCRIPT_DIR=os.getcwd(); sys.path.append(os.path.dirname(SCRIPT_DIR));\n",
    "###\n",
    "\n",
    "os.chdir(\"/\")\n",
    "print(os.getcwd())\n",
    "print(SCRIPT_DIR)"
   ]
  }
 ],
 "metadata": {
  "kernelspec": {
   "display_name": "spikingdijkstra",
   "language": "python",
   "name": "python3"
  },
  "language_info": {
   "codemirror_mode": {
    "name": "ipython",
    "version": 3
   },
   "file_extension": ".py",
   "mimetype": "text/x-python",
   "name": "python",
   "nbconvert_exporter": "python",
   "pygments_lexer": "ipython3",
   "version": "3.11.5"
  }
 },
 "nbformat": 4,
 "nbformat_minor": 2
}
